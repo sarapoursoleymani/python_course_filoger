{
 "cells": [
  {
   "cell_type": "markdown",
   "id": "fb7a8054",
   "metadata": {},
   "source": [
    "<div style=\"color: white;padding-top:18px;text-align:center;background-color:#8B008B;border-radius:15px;border: 1px solid white;\"> \n",
    "    <h3>Exercise 11 (score:300 + 50)</h3>\n",
    "</div>"
   ]
  },
  {
   "cell_type": "markdown",
   "id": "bd5458df",
   "metadata": {},
   "source": [
    "<div style=\"color: black;font-family:Georgia;padding-top:18px;text-align:left;background-color:lightskyblue;border-radius:15px;border: 2px solid cornflowerblue;\">\n",
    "    <h4>Question 01 (Tuple)(100):</h4>\n",
    "    <p>\n",
    "        Create a Python program with below details:\n",
    "        </p>\n",
    "<li>Input a count of students.</li> \n",
    "<li>Collect each student's unique ID, name, and score into tuples.</li>\n",
    "<li>Store these tuples in a list.</li>\n",
    "<li>Input a name to search the list.</li> \n",
    "<li>Display the matching student's details, if found..</li>\n",
    "    \n",
    "</div>"
   ]
  },
  {
   "cell_type": "code",
   "execution_count": 9,
   "id": "99937553-2a26-4787-b365-d46f41243c5e",
   "metadata": {},
   "outputs": [
    {
     "name": "stdout",
     "output_type": "stream",
     "text": [
      "details found: id: 22, name: sara, score: 19.0\n",
      "not found\n",
      "not found\n"
     ]
    }
   ],
   "source": [
    "num_students = int(input(\"enter the number of students: \"))\n",
    "students = []\n",
    "for i in range(num_students):\n",
    "    student_id = input(f\"enter student id: {i + 1}\")\n",
    "    student_name = input(f\"enter the names of the students: {i + 1}\")\n",
    "    student_score = float(input(f\"enter the grade of the students: {i + 1}\"))\n",
    "    student_tuple = (student_id, student_name, student_score)\n",
    "    students.append(student_tuple)\n",
    "    search_name = input(\"search for the desired student's name: \")\n",
    "    found = False\n",
    "    for student in students:\n",
    "        if student[1] == search_name:\n",
    "            print(f\"details found: id: {student[0]}, name: {student[1]}, score: {student[2]}\")\n",
    "            found = True\n",
    "            break\n",
    "        if not found:\n",
    "            print(\"not found\")"
   ]
  },
  {
   "cell_type": "markdown",
   "id": "014bb5de",
   "metadata": {},
   "source": [
    "<div style=\"color: black;font-family:Georgia;padding-top:18px;text-align:left;background-color:lightskyblue;border-radius:15px;border: 2px solid cornflowerblue;\">\n",
    "    <h4>Question 02 (set)(100):</h4>\n",
    "    <p>\n",
    "    Given two lists: list1 = [1, 2, 3, 4, 5, 6, 6, 7] and list2 = [5, 6, 7, 8, 9], write a \n",
    "program to create a list that contains only the unique elements from \n",
    "both list1 and list2. (using set)\n",
    "</p>\n",
    "</div>"
   ]
  },
  {
   "cell_type": "code",
   "execution_count": 2,
   "id": "49ba7c47",
   "metadata": {},
   "outputs": [
    {
     "name": "stdout",
     "output_type": "stream",
     "text": [
      "[1, 2, 3, 4, 8, 9]\n"
     ]
    }
   ],
   "source": [
    "list1 = [1, 2, 3, 4, 5, 6, 6, 7]\n",
    "list2 = [5, 6, 7, 8, 9]\n",
    "set1 = set(list1)\n",
    "set2 = set(list2)\n",
    "unique_elements = set1.symmetric_difference(set2)\n",
    "unique_list = list(unique_elements)\n",
    "print(unique_list)"
   ]
  },
  {
   "cell_type": "markdown",
   "id": "5c81e750",
   "metadata": {},
   "source": [
    "<div style=\"color: black;font-family:Georgia;padding-top:18px;text-align:left;background-color:lightskyblue;border-radius:15px;border: 2px solid cornflowerblue;\">\n",
    "    <h4>Question 03 (Set)(100):</h4>\n",
    "    <p>\n",
    "    Given a list items containing strings (filenames with extensions) and \n",
    "integers, write a Python program to extract and display the unique file \n",
    "extensions from the filenames in the list. Non-string items should be \n",
    "ignored.\n",
    "</p>\n",
    "</div>"
   ]
  },
  {
   "cell_type": "code",
   "execution_count": 3,
   "id": "50e67dcd",
   "metadata": {},
   "outputs": [
    {
     "name": "stdout",
     "output_type": "stream",
     "text": [
      "unique file extensions: {'jpg'}\n",
      "unique file extensions: {'txt', 'jpg'}\n",
      "unique file extensions: {'txt', 'jpg', 'pdf'}\n",
      "unique file extensions: {'txt', 'zip', 'jpg', 'pdf'}\n",
      "unique file extensions: {'txt', 'zip', 'jpg', 'pdf'}\n"
     ]
    }
   ],
   "source": [
    "items = [\"file1.jpg\", \"file2.txt\", 33, \"image.pdf\", 90, \"document.zip\", \"file3.txt\"]\n",
    "unique_extensions = set()\n",
    "for item in items:\n",
    "    if isinstance(item, str):\n",
    "        if '.' in item:\n",
    "            extension = item.split('.')[-1]\n",
    "            unique_extensions.add(extension)\n",
    "            print(\"unique file extensions:\", unique_extensions)\n"
   ]
  },
  {
   "cell_type": "markdown",
   "id": "d05c947f",
   "metadata": {},
   "source": [
    "<div style=\"color: white;padding-top:18px;text-align:center;background-color:#8B008B;border-radius:15px;border: 1px solid white;\"> \n",
    "    <h3>Exercise 12 (score:300 + 50)</h3>\n",
    "</div>"
   ]
  },
  {
   "cell_type": "markdown",
   "id": "34326ff6",
   "metadata": {},
   "source": [
    "<div style=\"color: black;font-family:Georgia;padding-top:18px;text-align:left;background-color:lightskyblue;border-radius:15px;border: 2px solid cornflowerblue;\">\n",
    "    <h4>Question 01 (Copy)(100):</h4>\n",
    "    <p>\n",
    "     Given dictionary books with book titles and their authors, perform the following:\n",
    "    </p>\n",
    "    <p>books = { \"Book1\":{\"title\": \"Learn Python\",\"authors\":[\"Author A\",\"Author B\"]},\"Book2\":{\"title\": \"AI Basics\",\"authors\":[\"Author C\"]}}</p>\n",
    "    <li>Shallow Copy Experiment:</li>\n",
    "<li>Make a shallow copy of books.</li>\n",
    "<li>Add \"Author D\" to \"Book1\" in this copy.</li>\n",
    "<li>Compare changes in the original dictionary.</li>\n",
    "<p>Deep Copy Experiment: •Create a deep copy of books.</p>\n",
    "<li>Add \"Author E\" to \"Book1\" in the deep copy.</li>\n",
    "<li>Discuss differences observed between the shallow and deep copy results.</li>\n",
    "</div>"
   ]
  },
  {
   "cell_type": "code",
   "execution_count": 6,
   "id": "2dc85e7c",
   "metadata": {},
   "outputs": [
    {
     "name": "stdout",
     "output_type": "stream",
     "text": [
      "surface copy:\n",
      "surface copy: {'book1': {'title': 'learn python', 'authors': ['author A', 'author B', 'author D']}, 'book2': {'title': 'AI basics', 'authors': ['author C']}}\n",
      "dictionary: {'book1': {'title': 'learn python', 'authors': ['author A', 'author B', 'author D']}, 'book2': {'title': 'AI basics', 'authors': ['author C']}}\n",
      "deep copy:\n",
      "deep copy: {'book1': {'title': 'learn python', 'authors': ['author A', 'author B', 'author D', 'author E']}, 'book2': {'title': 'AI basics', 'authors': ['author C']}}\n",
      "dictionary: {'book1': {'title': 'learn python', 'authors': ['author A', 'author B', 'author D']}, 'book2': {'title': 'AI basics', 'authors': ['author C']}}\n"
     ]
    }
   ],
   "source": [
    "import copy\n",
    "books = {\"book1\":{\"title\": \"learn python\", \"authors\": [\"author A\", \"author B\"]}, \"book2\":  {\"title\": \"AI basics\", \"authors\":[\"author C\"]}}\n",
    "shallow_copy_books = books.copy()\n",
    "shallow_copy_books[\"book1\"][\"authors\"].append(\"author D\")\n",
    "print(\"surface copy:\")\n",
    "print(\"surface copy:\", shallow_copy_books)\n",
    "print(\"dictionary:\", books)\n",
    "deep_copy_books = copy.deepcopy(books)\n",
    "deep_copy_books[\"book1\"][\"authors\"].append(\"author E\")\n",
    "print(\"deep copy:\")\n",
    "print(\"deep copy:\", deep_copy_books)\n",
    "print(\"dictionary:\", books)\n"
   ]
  },
  {
   "cell_type": "markdown",
   "id": "bf88bee7",
   "metadata": {},
   "source": [
    "<div style=\"color: black;font-family:Georgia;padding-top:18px;text-align:left;background-color:lightskyblue;border-radius:15px;border: 2px solid cornflowerblue;\">\n",
    "    <h4>Question 02 (ErrorHandling)(100):</h4>\n",
    "    <p>\n",
    "    Which type of error can’t handle by “Try, Except”? Give an example\n",
    "</p>\n",
    "</div>"
   ]
  },
  {
   "cell_type": "code",
   "execution_count": 1,
   "id": "906e0f5b",
   "metadata": {},
   "outputs": [
    {
     "name": "stdout",
     "output_type": "stream",
     "text": [
      "خطا مدیریت شد\n"
     ]
    }
   ],
   "source": [
    "import sys\n",
    "try:\n",
    "    sys.exit()\n",
    "except:\n",
    "    print(\"خطا مدیریت شد\")"
   ]
  },
  {
   "cell_type": "markdown",
   "id": "f31d7edb",
   "metadata": {},
   "source": [
    "<div style=\"color: black;font-family:Georgia;padding-top:18px;text-align:left;background-color:lightskyblue;border-radius:15px;border: 2px solid cornflowerblue;\">\n",
    "    <h4>Question 03 (Part1)(ErrorHandling)(100):</h4>\n",
    "    <p>\n",
    "   Manage the errors of the following codes \n",
    "    </p>\n",
    "    <p>sum = 8</p>  \n",
    "    <p>numbers = [10, 12, 13]</p>\n",
    "    <p>res = sum(numbers)</p> \n",
    "    <p>print(res)</p>\n",
    "</div>"
   ]
  },
  {
   "cell_type": "code",
   "execution_count": 4,
   "id": "c062e680",
   "metadata": {},
   "outputs": [
    {
     "name": "stdout",
     "output_type": "stream",
     "text": [
      "35\n"
     ]
    }
   ],
   "source": [
    "total_sum = 8\n",
    "numbers = [10, 12, 13]\n",
    "res = sum(numbers)\n",
    "print(res)"
   ]
  },
  {
   "cell_type": "markdown",
   "id": "2a90c5f6",
   "metadata": {},
   "source": [
    "<div style=\"color: black;font-family:Georgia;padding-top:18px;text-align:left;background-color:lightskyblue;border-radius:15px;border: 2px solid cornflowerblue;\">\n",
    "    <h4>Question 03 (Part2)(ErrorHandling)(100):</h4>\n",
    "    <p>\n",
    "   Manage the errors of the following codes \n",
    "    </p>\n",
    "    <p>numbers = [2, 3, 10, 23]</p>  \n",
    "    <p>numbers.remove(300)</p>\n",
    "    <p>print(numbers[8])</p> \n",
    "</div>"
   ]
  },
  {
   "cell_type": "code",
   "execution_count": 5,
   "id": "965392e2",
   "metadata": {},
   "outputs": [
    {
     "name": "stdout",
     "output_type": "stream",
     "text": [
      "عدد 300 در لیست وجود ندارد\n",
      "not found\n"
     ]
    }
   ],
   "source": [
    "numbers = [2, 3, 10, 23]\n",
    "if 300 in numbers:\n",
    "    numbers.remove(300)\n",
    "else:\n",
    "    print(\"عدد 300 در لیست وجود ندارد\")\n",
    "    index = 8\n",
    "    if index < len(numbers):\n",
    "        print(numbers[index])\n",
    "    else:\n",
    "        print(\"not found\")"
   ]
  },
  {
   "cell_type": "markdown",
   "id": "293056e3",
   "metadata": {},
   "source": [
    "<h2 style=\"color: blue:; background-color: purple\">Don't give up on your dreams :)</h2>"
   ]
  }
 ],
 "metadata": {
  "kernelspec": {
   "display_name": "Python 3 (ipykernel)",
   "language": "python",
   "name": "python3"
  },
  "language_info": {
   "codemirror_mode": {
    "name": "ipython",
    "version": 3
   },
   "file_extension": ".py",
   "mimetype": "text/x-python",
   "name": "python",
   "nbconvert_exporter": "python",
   "pygments_lexer": "ipython3",
   "version": "3.12.4"
  }
 },
 "nbformat": 4,
 "nbformat_minor": 5
}
